{
 "cells": [
  {
   "cell_type": "code",
   "execution_count": 1,
   "metadata": {
    "collapsed": true
   },
   "outputs": [],
   "source": [
    "import numpy as np\n",
    "import pandas as pd \n",
    "import matplotlib.pyplot as plt \n",
    "import seaborn as sns \n",
    "import nltk\n",
    "import string"
   ]
  },
  {
   "cell_type": "code",
   "execution_count": 2,
   "metadata": {
    "collapsed": true
   },
   "outputs": [],
   "source": [
    "df_train = pd.read_csv('train.csv') \n",
    "df_test = pd.read_csv('test.csv') "
   ]
  },
  {
   "cell_type": "code",
   "execution_count": 3,
   "metadata": {},
   "outputs": [
    {
     "data": {
      "text/html": [
       "<div>\n",
       "<style>\n",
       "    .dataframe thead tr:only-child th {\n",
       "        text-align: right;\n",
       "    }\n",
       "\n",
       "    .dataframe thead th {\n",
       "        text-align: left;\n",
       "    }\n",
       "\n",
       "    .dataframe tbody tr th {\n",
       "        vertical-align: top;\n",
       "    }\n",
       "</style>\n",
       "<table border=\"1\" class=\"dataframe\">\n",
       "  <thead>\n",
       "    <tr style=\"text-align: right;\">\n",
       "      <th></th>\n",
       "      <th>id</th>\n",
       "      <th>text</th>\n",
       "      <th>author</th>\n",
       "    </tr>\n",
       "  </thead>\n",
       "  <tbody>\n",
       "    <tr>\n",
       "      <th>6404</th>\n",
       "      <td>id08299</td>\n",
       "      <td>I know not how many interminable aeons I sat s...</td>\n",
       "      <td>HPL</td>\n",
       "    </tr>\n",
       "    <tr>\n",
       "      <th>7988</th>\n",
       "      <td>id15348</td>\n",
       "      <td>His good star perpetually shone upon him; a re...</td>\n",
       "      <td>MWS</td>\n",
       "    </tr>\n",
       "    <tr>\n",
       "      <th>13852</th>\n",
       "      <td>id01451</td>\n",
       "      <td>I left London in a small vessel bound for a po...</td>\n",
       "      <td>MWS</td>\n",
       "    </tr>\n",
       "    <tr>\n",
       "      <th>166</th>\n",
       "      <td>id04172</td>\n",
       "      <td>To add to our dilemma, we found the pumps chok...</td>\n",
       "      <td>EAP</td>\n",
       "    </tr>\n",
       "    <tr>\n",
       "      <th>12285</th>\n",
       "      <td>id07857</td>\n",
       "      <td>And do you not see also, that such recherchés ...</td>\n",
       "      <td>EAP</td>\n",
       "    </tr>\n",
       "    <tr>\n",
       "      <th>17571</th>\n",
       "      <td>id24251</td>\n",
       "      <td>\"Ha ha ha why, Simpson, you have an astonishin...</td>\n",
       "      <td>EAP</td>\n",
       "    </tr>\n",
       "    <tr>\n",
       "      <th>18822</th>\n",
       "      <td>id02104</td>\n",
       "      <td>I merely laughed but he seemed quite serious i...</td>\n",
       "      <td>EAP</td>\n",
       "    </tr>\n",
       "    <tr>\n",
       "      <th>1550</th>\n",
       "      <td>id17475</td>\n",
       "      <td>I had drilled myself in preparation for the cr...</td>\n",
       "      <td>HPL</td>\n",
       "    </tr>\n",
       "    <tr>\n",
       "      <th>4179</th>\n",
       "      <td>id23741</td>\n",
       "      <td>I had most imprudently made it known among my ...</td>\n",
       "      <td>EAP</td>\n",
       "    </tr>\n",
       "    <tr>\n",
       "      <th>12168</th>\n",
       "      <td>id07311</td>\n",
       "      <td>I foamed I raved I swore I swung the chair upo...</td>\n",
       "      <td>EAP</td>\n",
       "    </tr>\n",
       "  </tbody>\n",
       "</table>\n",
       "</div>"
      ],
      "text/plain": [
       "            id                                               text author\n",
       "6404   id08299  I know not how many interminable aeons I sat s...    HPL\n",
       "7988   id15348  His good star perpetually shone upon him; a re...    MWS\n",
       "13852  id01451  I left London in a small vessel bound for a po...    MWS\n",
       "166    id04172  To add to our dilemma, we found the pumps chok...    EAP\n",
       "12285  id07857  And do you not see also, that such recherchés ...    EAP\n",
       "17571  id24251  \"Ha ha ha why, Simpson, you have an astonishin...    EAP\n",
       "18822  id02104  I merely laughed but he seemed quite serious i...    EAP\n",
       "1550   id17475  I had drilled myself in preparation for the cr...    HPL\n",
       "4179   id23741  I had most imprudently made it known among my ...    EAP\n",
       "12168  id07311  I foamed I raved I swore I swung the chair upo...    EAP"
      ]
     },
     "execution_count": 3,
     "metadata": {},
     "output_type": "execute_result"
    }
   ],
   "source": [
    "df_train.sample(10)"
   ]
  },
  {
   "cell_type": "code",
   "execution_count": 4,
   "metadata": {
    "collapsed": true
   },
   "outputs": [],
   "source": [
    "def remove_punctuation(text):\n",
    "\n",
    "    # For each punctuation in our list\n",
    "    for punct in string.punctuation:\n",
    "        # Replace the actual punctuation with a space.\n",
    "        text = text.replace(punct,'')\n",
    "\n",
    "    # Return the new text\n",
    "    return text\n",
    "\n",
    "# Now, we will apply the remove punctiation to all our text\n",
    "df_train.text = df_train.text.apply(remove_punctuation)\n",
    "df_test.text = df_test.text.apply(remove_punctuation)"
   ]
  },
  {
   "cell_type": "code",
   "execution_count": 5,
   "metadata": {
    "collapsed": true
   },
   "outputs": [],
   "source": [
    "APPLY_STEMMING = False\n",
    "\n",
    "if APPLY_STEMMING:\n",
    "    import nltk.stem as stm # Import stem class from nltk\n",
    "    import re\n",
    "    stemmer = stm.PorterStemmer()\n",
    "\n",
    "    # Crazy one-liner code here...\n",
    "    # Explanation above...\n",
    "    df_train.text = df_train.text.apply(lambda text: \" \".join([stemmer.stem(word) for word in text.split(\" \")]))\n",
    "    df_test.text = df_test.text.apply(lambda text: \" \".join([stemmer.stem(word) for word in text.split(\" \")]))"
   ]
  },
  {
   "cell_type": "code",
   "execution_count": 6,
   "metadata": {
    "collapsed": true
   },
   "outputs": [],
   "source": [
    "from sklearn.feature_extraction.text import CountVectorizer # Import the library to vectorize the text\n",
    "\n",
    "# Instantiate the count vectorizer with an NGram Range from 1 to 3 and english for stop words.\n",
    "count_vect = CountVectorizer(ngram_range=(1,3),stop_words='english')\n",
    "\n",
    "# Fit the text and transform it into a vector. This will return a sparse matrix.\n",
    "count_vectorized = count_vect.fit_transform(df_train.text)"
   ]
  },
  {
   "cell_type": "code",
   "execution_count": 7,
   "metadata": {
    "collapsed": true
   },
   "outputs": [],
   "source": [
    "from sklearn.feature_extraction.text import TfidfVectorizer # Import the library to vectorize the text\n",
    "\n",
    "# Instantiate the count vectorizer with an NGram Range from 1 to 3 and english for stop words.\n",
    "tfidf_vect = TfidfVectorizer(ngram_range=(1,3), stop_words='english')\n",
    "\n",
    "# Fit the text and transform it into a vector. This will return a sparse matrix.\n",
    "tfidf_vectorized = tfidf_vect.fit_transform(df_train.text)"
   ]
  },
  {
   "cell_type": "code",
   "execution_count": 8,
   "metadata": {},
   "outputs": [
    {
     "name": "stderr",
     "output_type": "stream",
     "text": [
      "C:\\New folder\\lib\\site-packages\\sklearn\\model_selection\\_split.py:2026: FutureWarning: From version 0.21, test_size will always complement train_size unless both are specified.\n",
      "  FutureWarning)\n"
     ]
    }
   ],
   "source": [
    "from sklearn.model_selection import train_test_split # Import the function that makes splitting easier.\n",
    "X_train_count, X_test_count, y_train_count, y_test_count = train_test_split(count_vectorized, df_train.author, train_size=0.75)\n",
    "X_train_tfidf, X_test_tfidf, y_train_tfidf, y_test_tfidf = train_test_split(tfidf_vectorized, df_train.author, train_size=0.75)"
   ]
  },
  {
   "cell_type": "code",
   "execution_count": 9,
   "metadata": {
    "collapsed": true
   },
   "outputs": [],
   "source": [
    "from sklearn.naive_bayes import MultinomialNB\n"
   ]
  },
  {
   "cell_type": "code",
   "execution_count": 10,
   "metadata": {},
   "outputs": [
    {
     "data": {
      "text/plain": [
       "MultinomialNB(alpha=1.0, class_prior=None, fit_prior=True)"
      ]
     },
     "execution_count": 10,
     "metadata": {},
     "output_type": "execute_result"
    }
   ],
   "source": [
    "# Instantiate the model.\n",
    "# One for Count Vectorized words\n",
    "model_count_NB = MultinomialNB()\n",
    "# One for TfIdf vectorized words\n",
    "model_tfidf_NB = MultinomialNB()\n",
    "\n",
    "# Train the model, passing the x values, and the target (y)\n",
    "model_count_NB.fit(X_train_count, y_train_count)\n",
    "model_tfidf_NB.fit(X_train_tfidf, y_train_tfidf)"
   ]
  },
  {
   "cell_type": "code",
   "execution_count": 11,
   "metadata": {
    "collapsed": true
   },
   "outputs": [],
   "source": [
    "predictions_count = model_count_NB.predict(X_test_count)\n",
    "predictions_tfidf = model_tfidf_NB.predict(X_test_tfidf)"
   ]
  },
  {
   "cell_type": "code",
   "execution_count": 12,
   "metadata": {},
   "outputs": [
    {
     "name": "stdout",
     "output_type": "stream",
     "text": [
      "Count Vectorized Words Accuracy: 0.8337078651685393\n",
      "TfIdf Vectorized Words Accuracy: 0.7017364657814096\n"
     ]
    }
   ],
   "source": [
    "from sklearn.metrics import accuracy_score\n",
    "accuracy_count = accuracy_score(y_test_count, predictions_count)\n",
    "accuracy_tfidf = accuracy_score(y_test_tfidf, predictions_tfidf)\n",
    "print('Count Vectorized Words Accuracy:', accuracy_count)\n",
    "print('TfIdf Vectorized Words Accuracy:', accuracy_tfidf)"
   ]
  },
  {
   "cell_type": "code",
   "execution_count": 14,
   "metadata": {},
   "outputs": [
    {
     "data": {
      "image/png": "[encoded data removed]",
      "text/plain": [
       "<matplotlib.figure.Figure at 0x2d0233a6eb8>"
      ]
     },
     "metadata": {},
     "output_type": "display_data"
    },
    {
     "data": {
      "image/png": "[encoded data removed]",
      "text/plain": [
       "<matplotlib.figure.Figure at 0x2d023898588>"
      ]
     },
     "metadata": {},
     "output_type": "display_data"
    }
   ],
   "source": [
    "from sklearn.metrics import confusion_matrix\n",
    "\n",
    "# Calculate the confusion matrix passing the real values and the predicted ones\n",
    "# Count\n",
    "conf_mat_count = confusion_matrix(y_test_count, predictions_count)\n",
    "# tfIdf\n",
    "conf_mat_tfidf = confusion_matrix(y_test_tfidf, predictions_tfidf)\n",
    "\n",
    "# Set plot size\n",
    "plt.figure(figsize=(12,10))\n",
    "# Use 2 subplots.\n",
    "plt.subplot(1,2,1)\n",
    "\n",
    "# Finally, plot the confusion matrix using seaborn's heatmap.\n",
    "sns.heatmap(conf_mat_count.T, square=True, annot=True, fmt='d', cbar=True,\n",
    "            xticklabels=y_test_count.unique(), yticklabels=y_test_count.unique())\n",
    "plt.xlabel('True values')\n",
    "plt.ylabel('Predicted Values');\n",
    "plt.title('Count Vectorizer', fontsize=16)\n",
    "\n",
    "plt.subplot(1,2,2)\n",
    "# Finally, plot the confusion matrix using seaborn's heatmap.\n",
    "sns.heatmap(conf_mat_tfidf.T, square=True, annot=True, fmt='d', cbar=True,\n",
    "            xticklabels=y_test_tfidf.unique(), yticklabels=y_test_tfidf.unique())\n",
    "plt.xlabel('True values')\n",
    "plt.ylabel('Predicted Values');\n",
    "plt.title('TfIdf Vectorizer', fontsize=16)\n",
    "plt.show()"
   ]
  },
  {
   "cell_type": "code",
   "execution_count": 15,
   "metadata": {},
   "outputs": [
    {
     "data": {
      "text/plain": [
       "MultinomialNB(alpha=1.0, class_prior=None, fit_prior=True)"
      ]
     },
     "execution_count": 15,
     "metadata": {},
     "output_type": "execute_result"
    }
   ],
   "source": [
    "model_NB = MultinomialNB()\n",
    "\n",
    "# Train the model, passing the x values, and the target (y)\n",
    "# the vectorized variable contains all the test data.\n",
    "model_NB.fit(count_vectorized, df_train.author)"
   ]
  },
  {
   "cell_type": "code",
   "execution_count": 17,
   "metadata": {},
   "outputs": [],
   "source": [
    "X_test = count_vect.transform(df_test.text)"
   ]
  },
  {
   "cell_type": "code",
   "execution_count": 18,
   "metadata": {
    "collapsed": true
   },
   "outputs": [],
   "source": [
    "predicted_values = model_NB.predict_proba(X_test)"
   ]
  },
  {
   "cell_type": "code",
   "execution_count": 19,
   "metadata": {},
   "outputs": [
    {
     "data": {
      "text/plain": [
       "array(['EAP', 'HPL', 'MWS'], dtype='<U3')"
      ]
     },
     "execution_count": 19,
     "metadata": {},
     "output_type": "execute_result"
    }
   ],
   "source": [
    "model_NB.classes_"
   ]
  },
  {
   "cell_type": "code",
   "execution_count": 20,
   "metadata": {},
   "outputs": [
    {
     "name": "stdout",
     "output_type": "stream",
     "text": [
      "File submission_20190218_200115_acc_0.8337078651685393.csv created.\n"
     ]
    }
   ],
   "source": [
    "import time\n",
    "\n",
    "# Create the submission dataframe\n",
    "df_submission = pd.DataFrame({\n",
    "    'id': df_test.id.values,\n",
    "    'EAP': predicted_values[:,0],\n",
    "    'HPL': predicted_values[:,1],\n",
    "    'MWS': predicted_values[:,2]\n",
    "})\n",
    "\n",
    "\n",
    "# Create the date and time string. (year month day _ hours minutes seconds)\n",
    "datetime = time.strftime(\"%Y%m%d_%H%M%S\")\n",
    "\n",
    "# generate the file name with the date, the time and the accuracy of the count vectorized test.\n",
    "filename = 'submission_' + datetime + '_acc_' + str(accuracy_count) + '.csv'\n",
    "\n",
    "# Finally, convert it to csv. Index=True tells pandas not to include the index as a column\n",
    "df_submission.to_csv(filename, index=False)\n",
    "print('File',filename,'created.')"
   ]
  },
  {
   "cell_type": "code",
   "execution_count": null,
   "metadata": {
    "collapsed": true
   },
   "outputs": [],
   "source": []
  }
 ],
 "metadata": {
  "kernelspec": {
   "display_name": "Python 3",
   "language": "python",
   "name": "python3"
  },
  "language_info": {
   "codemirror_mode": {
    "name": "ipython",
    "version": 3
   },
   "file_extension": ".py",
   "mimetype": "text/x-python",
   "name": "python",
   "nbconvert_exporter": "python",
   "pygments_lexer": "ipython3",
   "version": "3.6.3"
  }
 },
 "nbformat": 4,
 "nbformat_minor": 2
}
